{
 "cells": [
  {
   "cell_type": "markdown",
   "metadata": {},
   "source": [
    "<h1 align=center style=\"line-height:200%;font-family:vazir;color:#0099cc\">\n",
    "<font face=\"vazir\" color=\"#0099cc\">\n",
    "آزمون فرض\n",
    "</font>\n",
    "</h1>\n",
    "\n",
    "<p dir=rtl style=\"direction: rtl;text-align: justify;line-height:200%;font-family:vazir;font-size:medium\">\n",
    "<font face=\"vazir\" size=3>\n",
    "●\tبه نظر شما درآمد خانوارهای شهری و روستایی در استان چهارمحال و بختیاری با هم برابر است؟\n",
    "</font>\n",
    "</p>"
   ]
  },
  {
   "cell_type": "code",
   "execution_count": 8,
   "metadata": {},
   "outputs": [],
   "source": [
    "# imports\n",
    "import numpy as np\n",
    "import pandas as pd\n",
    "import matplotlib.pyplot as plt\n",
    "import scipy as sp\n",
    "from scipy.stats import norm, expon\n"
   ]
  },
  {
   "cell_type": "code",
   "execution_count": 2,
   "metadata": {},
   "outputs": [],
   "source": [
    "# some utility functions\n",
    "def convert_float(data):\n",
    "    try:\n",
    "        if pd.isna(data):  \n",
    "            return 0\n",
    "        else:\n",
    "            return float(data)\n",
    "    except:  \n",
    "        return 0"
   ]
  },
  {
   "cell_type": "code",
   "execution_count": 3,
   "metadata": {},
   "outputs": [],
   "source": [
    "# file names and directories\n",
    "data_dir = '../Data/'\n",
    "R_files = ['R98', 'R99', 'R1400', 'R1401']\n",
    "U_files = ['U98', 'U99', 'U1400', 'U1401']"
   ]
  },
  {
   "cell_type": "markdown",
   "metadata": {},
   "source": [
    "<p dir=rtl style=\"direction: rtl;text-align: justify;line-height:200%;font-family:vazir;font-size:medium\">\n",
    "<font face=\"vazir\" size=3>\n",
    "بررسی داده‌ها نشان می‌دهد که درآمد‌ها در بخش چهارم هستند.\n",
    "در این بخش چهار قسمت داریم که باید درآمدهای خانوار در هر یک از این بخش‌ها جمع زده شود.\n",
    "</font>\n",
    "<font face=\"vazir\" size=3>\n",
    "همچنین از آنجا که می‌دانیم به علت تورم درآمدها سال به سال بیشتر شده است برای کاهش تاثیر این مسئله هر سال را جداگانه بررسی می‌کنیم.\n",
    "</font>\n",
    "</p>"
   ]
  },
  {
   "cell_type": "code",
   "execution_count": 4,
   "metadata": {},
   "outputs": [],
   "source": [
    "def extract_income(files):\n",
    "    income = []\n",
    "    for file_name in files:\n",
    "        # calculating Income column for each file\n",
    "        # Section 1\n",
    "        s1 = pd.read_excel(f'../Data/{file_name}.xlsx', sheet_name=(file_name+'P4S01'))\n",
    "        s1 = s1[['Address', 'netincome_w_y']].rename(columns={'netincome_w_y': 'Income'})\n",
    "        # Section 2\n",
    "        s2 = pd.read_excel(f'../Data/{file_name}.xlsx', sheet_name=(file_name+'P4S02'))\n",
    "        s2['income_s_y'] = s2['income_s_y'].apply(convert_float)\n",
    "        s2 = s2[['Address', 'income_s_y']].rename(columns={'income_s_y': 'Income'})\n",
    "        # Section 3        \n",
    "        s3 = pd.read_excel(f'../Data/{file_name}.xlsx', sheet_name=(file_name+'P4S03'))\n",
    "        s3['income_pension'] = s3['income_pension'].apply(convert_float)\n",
    "        s3['income_rent'] = s3['income_rent'].apply(convert_float)\n",
    "        s3['income_interest'] = s3['income_interest'].apply(convert_float)\n",
    "        s3['income_aid'] = s3['income_aid'].apply(convert_float)\n",
    "        s3['income_resale'] = s3['income_resale'].apply(convert_float)\n",
    "        s3['income_transfer'] = s3['income_transfer'].apply(convert_float)\n",
    "        s3['Income'] =  (s3['income_pension'] + \n",
    "                s3['income_rent'] + \n",
    "                s3['income_interest'] + \n",
    "                s3['income_aid'] + \n",
    "                s3['income_resale'] + \n",
    "                s3['income_transfer'])\n",
    "        s3 = s3[['Address', 'Income']]\n",
    "        # Section 4\n",
    "        s4 = pd.read_excel(f'../Data/{file_name}.xlsx', sheet_name=(file_name+'P4S04'))\n",
    "        s4 = s4[['Address', 'subsidy']].rename(columns={'subsidy': 'Income'})\n",
    "        total = pd.concat([s1, s2, s3, s4])\n",
    "        total_grouped = total.groupby('Address').agg({'Income': 'sum'}).reset_index()\n",
    "        \n",
    "        # filter addresses for specified region with code: 14\n",
    "        total_grouped['region'] = total_grouped['Address'].apply(lambda x: str(x)[1:3])\n",
    "        total_grouped = total_grouped[total_grouped['region'] == '14']\n",
    "        total_grouped.drop('region', axis=1, inplace=True)\n",
    "        income.append(total_grouped)\n",
    "    return income"
   ]
  },
  {
   "cell_type": "code",
   "execution_count": 5,
   "metadata": {},
   "outputs": [],
   "source": [
    "R_income = extract_income(R_files)"
   ]
  },
  {
   "cell_type": "code",
   "execution_count": 6,
   "metadata": {},
   "outputs": [],
   "source": [
    "U_income = extract_income(U_files)"
   ]
  },
  {
   "cell_type": "code",
   "execution_count": 7,
   "metadata": {},
   "outputs": [
    {
     "data": {
      "image/png": "[encoded data removed]",
      "text/plain": [
       "<Figure size 640x480 with 1 Axes>"
      ]
     },
     "metadata": {},
     "output_type": "display_data"
    }
   ],
   "source": [
    "R_yearly_mean_incomes = {\n",
    "    '98': np.mean(R_income[0]['Income']),\n",
    "    '99': np.mean(R_income[1]['Income']),\n",
    "    '1400': np.mean(R_income[2]['Income']),\n",
    "    '1401': np.mean(R_income[3]['Income']),\n",
    "}\n",
    "U_yearly_mean_incomes = {\n",
    "    '98': np.mean(U_income[0]['Income']),\n",
    "    '99': np.mean(U_income[1]['Income']),\n",
    "    '1400': np.mean(U_income[2]['Income']),\n",
    "    '1401': np.mean(U_income[3]['Income']),\n",
    "}\n",
    "\n",
    "years = list(R_yearly_mean_incomes.keys())\n",
    "R_mean_incomes = list(R_yearly_mean_incomes.values())\n",
    "U_mean_incomes = list(U_yearly_mean_incomes.values())\n",
    "\n",
    "# Set positions for the bars\n",
    "bar_width = 0.4\n",
    "x = np.arange(len(years))\n",
    "\n",
    "# Plot bars for R_mean_incomes\n",
    "plt.bar(x - bar_width/2, R_mean_incomes, bar_width, label='R Mean Incomes', color='#1f77b4')\n",
    "\n",
    "# Plot bars for U_mean_incomes\n",
    "plt.bar(x + bar_width/2, U_mean_incomes, bar_width, label='U Mean Incomes', color='#ff7f0e')\n",
    "\n",
    "# Add labels and title\n",
    "plt.xlabel('Year')\n",
    "plt.ylabel('Mean Income')\n",
    "plt.title('Yearly Mean Incomes')\n",
    "plt.xticks(x, years)  # Set x-ticks to the year labels\n",
    "plt.legend()  # Show the legend\n",
    "\n",
    "# Show the plot\n",
    "plt.show()\n"
   ]
  },
  {
   "cell_type": "markdown",
   "metadata": {},
   "source": [
    "<p dir=rtl style=\"direction: rtl;text-align: justify;line-height:200%;font-family:vazir;font-size:medium\">\n",
    "<font face=\"vazir\" size=3>\n",
    "نمودار میانگین درآمد سال به سال نشان‌ می‌دهد که درآمد‌های شهری و روستایی استان چهار محال و بختیاری یکسان نیستند.\n",
    "حال آزمون فرض زیر را برای هر سال بررسی می‌کنیم:\n",
    "</font>\n",
    "</p>"
   ]
  },
  {
   "cell_type": "markdown",
   "metadata": {},
   "source": [
    "\\begin{align*}\n",
    "& H_{0}: \\mu_{R} = \\mu_{U}\\\\\n",
    "& H_{1}: \\mu_{R} \\neq \\mu_{U}\\\\\n",
    "\\end{align*}"
   ]
  },
  {
   "cell_type": "code",
   "execution_count": 22,
   "metadata": {},
   "outputs": [
    {
     "data": {
      "text/plain": [
       "0.0"
      ]
     },
     "execution_count": 22,
     "metadata": {},
     "output_type": "execute_result"
    }
   ],
   "source": [
    "# year 1398\n",
    "t_statistic, p_value = sp.stats.ttest_ind(R_income[0]['Income'], U_income[0]['Income'])\n",
    "round(p_value,2)"
   ]
  },
  {
   "cell_type": "code",
   "execution_count": 21,
   "metadata": {},
   "outputs": [
    {
     "data": {
      "text/plain": [
       "0.0"
      ]
     },
     "execution_count": 21,
     "metadata": {},
     "output_type": "execute_result"
    }
   ],
   "source": [
    "# year 1399\n",
    "t_statistic, p_value = sp.stats.ttest_ind(R_income[1]['Income'], U_income[1]['Income'])\n",
    "round(p_value,2)"
   ]
  },
  {
   "cell_type": "code",
   "execution_count": 20,
   "metadata": {},
   "outputs": [
    {
     "data": {
      "text/plain": [
       "0.0"
      ]
     },
     "execution_count": 20,
     "metadata": {},
     "output_type": "execute_result"
    }
   ],
   "source": [
    "# year 1400\n",
    "t_statistic, p_value = sp.stats.ttest_ind(R_income[2]['Income'], U_income[2]['Income'])\n",
    "round(p_value,2)"
   ]
  },
  {
   "cell_type": "code",
   "execution_count": 19,
   "metadata": {},
   "outputs": [
    {
     "data": {
      "text/plain": [
       "0.0"
      ]
     },
     "execution_count": 19,
     "metadata": {},
     "output_type": "execute_result"
    }
   ],
   "source": [
    "# year 1401\n",
    "t_statistic, p_value = sp.stats.ttest_ind(R_income[3]['Income'], U_income[3]['Income'])\n",
    "round(p_value,2)"
   ]
  },
  {
   "cell_type": "markdown",
   "metadata": {},
   "source": [
    "for years 1398-1401: P_value is 0\n",
    "\n",
    "H<sub>0</sub> is rejected"
   ]
  },
  {
   "cell_type": "markdown",
   "metadata": {},
   "source": [
    "<p dir=rtl style=\"direction: rtl;text-align: justify;line-height:200%;font-family:vazir;font-size:medium\">\n",
    "<font face=\"vazir\" size=3>\n",
    "محاسبات بالا نشان می‌دهد که برای سال‌های ۱۳۹۸ تا ۱۴۰۱ در استان چهار محال و بختیاری درآمد شهری با درآمد روستایی برابر نیستند.\n",
    "</font>\n",
    "</p>"
   ]
  }
 ],
 "metadata": {
  "kernelspec": {
   "display_name": "queraAI",
   "language": "python",
   "name": "python3"
  },
  "language_info": {
   "codemirror_mode": {
    "name": "ipython",
    "version": 3
   },
   "file_extension": ".py",
   "mimetype": "text/x-python",
   "name": "python",
   "nbconvert_exporter": "python",
   "pygments_lexer": "ipython3",
   "version": "3.9.19"
  }
 },
 "nbformat": 4,
 "nbformat_minor": 2
}
